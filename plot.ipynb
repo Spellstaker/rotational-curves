{
 "cells": [
  {
   "cell_type": "code",
   "execution_count": 90,
   "metadata": {
    "collapsed": false
   },
   "outputs": [],
   "source": [
    "import pandas as pd\n",
    "import plotly.plotly as py\n",
    "import plotly.graph_objs as go"
   ]
  },
  {
   "cell_type": "code",
   "execution_count": 85,
   "metadata": {
    "collapsed": false
   },
   "outputs": [],
   "source": [
    "df = pd.read_csv(\"input.csv\")\n",
    "\n",
    "radius_kpc = df['Radius (kpc)']\n",
    "radius_arcmin = df['Radius (arcmin)']\n",
    "velocity = df['Velocity (km/s)']\n",
    "error = df['Error Δv']\n",
    "\n",
    "G = 6.67E-11\n",
    "M = 4.77E11*1.99E30\n",
    "expected_velocity = ((G*M/(radius_arcmin*3.09E19))**0.5)/1000"
   ]
  },
  {
   "cell_type": "code",
   "execution_count": 86,
   "metadata": {
    "collapsed": true
   },
   "outputs": [],
   "source": [
    "trace_observed = go.Scatter(\n",
    "    x=radius, \n",
    "    y=velocity,\n",
    "    name='Observed',\n",
    "    error_y=dict(\n",
    "        type='data',\n",
    "        array=error,\n",
    "        visible=True\n",
    "    )\n",
    ")\n",
    "\n",
    "trace_expected = go.Scatter(\n",
    "    x=radius,\n",
    "    y=expected_velocity,\n",
    "    name='Expected'\n",
    ")"
   ]
  },
  {
   "cell_type": "code",
   "execution_count": 92,
   "metadata": {
    "collapsed": false
   },
   "outputs": [
    {
     "data": {
      "text/html": [
       "<iframe id=\"igraph\" scrolling=\"no\" style=\"border:none;\" seamless=\"seamless\" src=\"https://plot.ly/~Spellstaker/63.embed\" height=\"525px\" width=\"100%\"></iframe>"
      ],
      "text/plain": [
       "<plotly.tools.PlotlyDisplay object>"
      ]
     },
     "execution_count": 92,
     "metadata": {},
     "output_type": "execute_result"
    }
   ],
   "source": [
    "data = [trace_observed, trace_expected]\n",
    "\n",
    "standard_font = dict(size=18)\n",
    "layout = dict(xaxis=dict(title = \"Radius (kpc)\", titlefont = standard_font),\n",
    "              yaxis=dict (title =\"Velocity (km/s)\", titlefont = standard_font)\n",
    "             )\n",
    "\n",
    "fig = dict(data=data, layout=layout)\n",
    "\n",
    "py.iplot(fig)"
   ]
  }
 ],
 "metadata": {
  "kernelspec": {
   "display_name": "Python 3",
   "language": "python",
   "name": "python3"
  },
  "language_info": {
   "codemirror_mode": {
    "name": "ipython",
    "version": 3
   },
   "file_extension": ".py",
   "mimetype": "text/x-python",
   "name": "python",
   "nbconvert_exporter": "python",
   "pygments_lexer": "ipython3",
   "version": "3.6.0"
  }
 },
 "nbformat": 4,
 "nbformat_minor": 2
}
